{
 "cells": [
  {
   "cell_type": "code",
   "execution_count": 46,
   "id": "f159231c-0b0e-4572-9969-a17469bee9f7",
   "metadata": {},
   "outputs": [],
   "source": [
    "import os\n",
    "import glob\n",
    "import pandas as pd\n",
    "from tqdm import tqdm\n",
    "\n",
    "import torch"
   ]
  },
  {
   "cell_type": "code",
   "execution_count": 47,
   "id": "9b377d4d-d594-4157-85cd-d5b579298a06",
   "metadata": {},
   "outputs": [],
   "source": [
    "# Функция для чтения текстов и их рейтингов\n",
    "def load_data(pos_dir, neg_dir):\n",
    "    data = []\n",
    "    ratings = []\n",
    "\n",
    "    # Чтение положительных отзывов\n",
    "    for filepath in tqdm(glob.glob(os.path.join(pos_dir, '*.txt'))):\n",
    "        with open(filepath, 'r', encoding='utf-8') as file:\n",
    "            text = file.read()\n",
    "            rating = int(os.path.basename(filepath).split('_')[1].split('.')[0])  # Извлечение рейтинга\n",
    "            data.append(text)\n",
    "            ratings.append(rating)\n",
    "\n",
    "    # Чтение отрицательных отзывов\n",
    "    for filepath in tqdm(glob.glob(os.path.join(neg_dir, '*.txt'))):\n",
    "        with open(filepath, 'r', encoding='utf-8') as file:\n",
    "            text = file.read()\n",
    "            rating = int(os.path.basename(filepath).split('_')[1].split('.')[0])  # Извлечение рейтинга\n",
    "            data.append(text)\n",
    "            ratings.append(rating)\n",
    "\n",
    "    return pd.DataFrame({'text': data, 'rating': ratings})\n"
   ]
  },
  {
   "cell_type": "code",
   "execution_count": 48,
   "id": "d6d278e3-0118-4ba4-98ed-54131ace6f74",
   "metadata": {},
   "outputs": [
    {
     "name": "stderr",
     "output_type": "stream",
     "text": [
      "100%|████████████████████████████████████████████████████████████████████████████| 12500/12500 [02:13<00:00, 93.89it/s]\n",
      "100%|███████████████████████████████████████████████████████████████████████████| 12500/12500 [01:59<00:00, 104.44it/s]\n",
      "100%|███████████████████████████████████████████████████████████████████████████| 12500/12500 [01:59<00:00, 104.85it/s]\n",
      "100%|███████████████████████████████████████████████████████████████████████████| 12500/12500 [01:47<00:00, 115.84it/s]\n"
     ]
    },
    {
     "name": "stdout",
     "output_type": "stream",
     "text": [
      "(25000, 2) (25000, 2)\n"
     ]
    },
    {
     "data": {
      "text/html": [
       "<div>\n",
       "<style scoped>\n",
       "    .dataframe tbody tr th:only-of-type {\n",
       "        vertical-align: middle;\n",
       "    }\n",
       "\n",
       "    .dataframe tbody tr th {\n",
       "        vertical-align: top;\n",
       "    }\n",
       "\n",
       "    .dataframe thead th {\n",
       "        text-align: right;\n",
       "    }\n",
       "</style>\n",
       "<table border=\"1\" class=\"dataframe\">\n",
       "  <thead>\n",
       "    <tr style=\"text-align: right;\">\n",
       "      <th></th>\n",
       "      <th>text</th>\n",
       "      <th>rating</th>\n",
       "    </tr>\n",
       "  </thead>\n",
       "  <tbody>\n",
       "    <tr>\n",
       "      <th>0</th>\n",
       "      <td>Bromwell High is a cartoon comedy. It ran at t...</td>\n",
       "      <td>9</td>\n",
       "    </tr>\n",
       "    <tr>\n",
       "      <th>1</th>\n",
       "      <td>Homelessness (or Houselessness as George Carli...</td>\n",
       "      <td>8</td>\n",
       "    </tr>\n",
       "    <tr>\n",
       "      <th>2</th>\n",
       "      <td>Brilliant over-acting by Lesley Ann Warren. Be...</td>\n",
       "      <td>10</td>\n",
       "    </tr>\n",
       "    <tr>\n",
       "      <th>3</th>\n",
       "      <td>This is easily the most underrated film inn th...</td>\n",
       "      <td>7</td>\n",
       "    </tr>\n",
       "    <tr>\n",
       "      <th>4</th>\n",
       "      <td>This is not the typical Mel Brooks film. It wa...</td>\n",
       "      <td>8</td>\n",
       "    </tr>\n",
       "  </tbody>\n",
       "</table>\n",
       "</div>"
      ],
      "text/plain": [
       "                                                text  rating\n",
       "0  Bromwell High is a cartoon comedy. It ran at t...       9\n",
       "1  Homelessness (or Houselessness as George Carli...       8\n",
       "2  Brilliant over-acting by Lesley Ann Warren. Be...      10\n",
       "3  This is easily the most underrated film inn th...       7\n",
       "4  This is not the typical Mel Brooks film. It wa...       8"
      ]
     },
     "execution_count": 48,
     "metadata": {},
     "output_type": "execute_result"
    }
   ],
   "source": [
    "# Путь к каталогам\n",
    "train_dir = 'train'\n",
    "test_dir = 'test'\n",
    "pos_dir_train = os.path.join(train_dir, 'pos')\n",
    "neg_dir_train = os.path.join(train_dir, 'neg')\n",
    "pos_dir_test = os.path.join(test_dir, 'pos')\n",
    "neg_dir_test = os.path.join(test_dir, 'neg')\n",
    "\n",
    "train_dataset = load_data(pos_dir_train, neg_dir_train)\n",
    "test_dataset = load_data(pos_dir_test, neg_dir_test)\n",
    "print(train_dataset.shape, test_dataset.shape)\n",
    "train_dataset.head()"
   ]
  },
  {
   "cell_type": "code",
   "execution_count": 49,
   "id": "2a8a66c9-76e4-4ab1-89cc-4e3898c38a12",
   "metadata": {},
   "outputs": [],
   "source": [
    "# Сохранение данных во временный CSV для torchtext\n",
    "train_dataset.to_csv('train.csv', index=False)\n",
    "test_dataset.to_csv('test.csv', index=False)"
   ]
  },
  {
   "cell_type": "code",
   "execution_count": 50,
   "id": "3833e98b-6fda-404f-93d5-c95b67b1cce9",
   "metadata": {},
   "outputs": [
    {
     "data": {
      "text/html": [
       "<div>\n",
       "<style scoped>\n",
       "    .dataframe tbody tr th:only-of-type {\n",
       "        vertical-align: middle;\n",
       "    }\n",
       "\n",
       "    .dataframe tbody tr th {\n",
       "        vertical-align: top;\n",
       "    }\n",
       "\n",
       "    .dataframe thead th {\n",
       "        text-align: right;\n",
       "    }\n",
       "</style>\n",
       "<table border=\"1\" class=\"dataframe\">\n",
       "  <thead>\n",
       "    <tr style=\"text-align: right;\">\n",
       "      <th></th>\n",
       "      <th>text</th>\n",
       "      <th>rating</th>\n",
       "    </tr>\n",
       "  </thead>\n",
       "  <tbody>\n",
       "    <tr>\n",
       "      <th>0</th>\n",
       "      <td>Bromwell High is a cartoon comedy. It ran at t...</td>\n",
       "      <td>9</td>\n",
       "    </tr>\n",
       "    <tr>\n",
       "      <th>1</th>\n",
       "      <td>Homelessness (or Houselessness as George Carli...</td>\n",
       "      <td>8</td>\n",
       "    </tr>\n",
       "    <tr>\n",
       "      <th>2</th>\n",
       "      <td>Brilliant over-acting by Lesley Ann Warren. Be...</td>\n",
       "      <td>10</td>\n",
       "    </tr>\n",
       "    <tr>\n",
       "      <th>3</th>\n",
       "      <td>This is easily the most underrated film inn th...</td>\n",
       "      <td>7</td>\n",
       "    </tr>\n",
       "    <tr>\n",
       "      <th>4</th>\n",
       "      <td>This is not the typical Mel Brooks film. It wa...</td>\n",
       "      <td>8</td>\n",
       "    </tr>\n",
       "  </tbody>\n",
       "</table>\n",
       "</div>"
      ],
      "text/plain": [
       "                                                text  rating\n",
       "0  Bromwell High is a cartoon comedy. It ran at t...       9\n",
       "1  Homelessness (or Houselessness as George Carli...       8\n",
       "2  Brilliant over-acting by Lesley Ann Warren. Be...      10\n",
       "3  This is easily the most underrated film inn th...       7\n",
       "4  This is not the typical Mel Brooks film. It wa...       8"
      ]
     },
     "execution_count": 50,
     "metadata": {},
     "output_type": "execute_result"
    }
   ],
   "source": [
    "train_df = pd.read_csv('train.csv')\n",
    "test_df = pd.read_csv('test.csv')\n",
    "train_df.head()"
   ]
  },
  {
   "cell_type": "code",
   "execution_count": null,
   "id": "b98db8bb-6c86-40a7-9a1c-1d5ac52d126f",
   "metadata": {},
   "outputs": [],
   "source": [
    "\n",
    "\n",
    "\n",
    "\n"
   ]
  },
  {
   "cell_type": "code",
   "execution_count": 51,
   "id": "700b9ae9-02d7-49f9-ac0c-6b78260cb669",
   "metadata": {},
   "outputs": [],
   "source": [
    "from sklearn.model_selection import train_test_split\n",
    "from transformers import DistilBertTokenizer, DistilBertForSequenceClassification, Trainer, TrainingArguments"
   ]
  },
  {
   "cell_type": "code",
   "execution_count": 52,
   "id": "be35ecf8-3448-4756-bbe7-441bc17de8cc",
   "metadata": {},
   "outputs": [],
   "source": [
    "texts = train_df[\"text\"].tolist()\n",
    "ratings = train_df[\"rating\"].tolist()"
   ]
  },
  {
   "cell_type": "code",
   "execution_count": 53,
   "id": "e4b5445b-9c47-4cde-bb08-42af5e47ccdd",
   "metadata": {},
   "outputs": [
    {
     "data": {
      "text/plain": [
       "{1, 2, 3, 4, 7, 8, 9, 10}"
      ]
     },
     "execution_count": 53,
     "metadata": {},
     "output_type": "execute_result"
    }
   ],
   "source": [
    "set(ratings)"
   ]
  },
  {
   "cell_type": "code",
   "execution_count": 54,
   "id": "9c0e4161-3561-4422-ab99-dc7b688a6d27",
   "metadata": {},
   "outputs": [],
   "source": [
    "train_texts, val_texts, train_labels, val_labels = train_test_split(texts, ratings, test_size=0.2)"
   ]
  },
  {
   "cell_type": "code",
   "execution_count": 55,
   "id": "afb17207-d7f9-49c2-8aa3-5fe4d188b530",
   "metadata": {},
   "outputs": [],
   "source": [
    "# Загрузка токенизатора и токенизация текста\n",
    "tokenizer = DistilBertTokenizer.from_pretrained('distilbert-base-uncased')"
   ]
  },
  {
   "cell_type": "code",
   "execution_count": 69,
   "id": "0693f28f-4e19-4708-b315-f65799a62ca5",
   "metadata": {},
   "outputs": [],
   "source": [
    "train_encodings = tokenizer(train_texts, truncation=True, padding=True, max_length=512)\n",
    "val_encodings = tokenizer(val_texts, truncation=True, padding=True, max_length=512)"
   ]
  },
  {
   "cell_type": "code",
   "execution_count": 70,
   "id": "a2660571-3450-498b-b1d1-495573a04385",
   "metadata": {},
   "outputs": [
    {
     "data": {
      "text/plain": [
       "dict_keys(['input_ids', 'attention_mask'])"
      ]
     },
     "execution_count": 70,
     "metadata": {},
     "output_type": "execute_result"
    }
   ],
   "source": [
    "train_encodings.keys()"
   ]
  },
  {
   "cell_type": "code",
   "execution_count": 84,
   "id": "1ed24b1f-3ae0-43a8-b736-0c25a6afa104",
   "metadata": {},
   "outputs": [],
   "source": [
    "# Создание класса для PyTorch Dataset\n",
    "class MovieReviewDataset(torch.utils.data.Dataset):\n",
    "    def __init__(self, encodings, labels):\n",
    "        self.encodings = encodings\n",
    "        self.labels = labels\n",
    "\n",
    "    def __getitem__(self, idx):\n",
    "        item = {key: torch.tensor(val[idx]) for key, val in self.encodings.items()}\n",
    "        item['labels'] = torch.tensor(self.labels[idx])\n",
    "        return item\n",
    "\n",
    "    def __len__(self):\n",
    "        return len(self.labels)"
   ]
  },
  {
   "cell_type": "code",
   "execution_count": 85,
   "id": "21bf3140-31af-4027-a0df-62a5f48c4a3c",
   "metadata": {},
   "outputs": [],
   "source": [
    "train_dataset = MovieReviewDataset(train_encodings, train_labels)\n",
    "val_dataset = MovieReviewDataset(val_encodings, val_labels)"
   ]
  },
  {
   "cell_type": "code",
   "execution_count": 86,
   "id": "fc1b583b-61a8-4578-bc0c-082f84c88d20",
   "metadata": {},
   "outputs": [
    {
     "name": "stderr",
     "output_type": "stream",
     "text": [
      "Some weights of DistilBertForSequenceClassification were not initialized from the model checkpoint at distilbert-base-uncased and are newly initialized: ['classifier.bias', 'classifier.weight', 'pre_classifier.bias', 'pre_classifier.weight']\n",
      "You should probably TRAIN this model on a down-stream task to be able to use it for predictions and inference.\n"
     ]
    }
   ],
   "source": [
    "# Обучение модели\n",
    "model = DistilBertForSequenceClassification.from_pretrained('distilbert-base-uncased', num_labels=11)"
   ]
  },
  {
   "cell_type": "code",
   "execution_count": 87,
   "id": "e2f53ad8-5dd8-4b7f-ac49-05047c6a5807",
   "metadata": {},
   "outputs": [],
   "source": [
    "# Настройка параметров обучения\n",
    "training_args = TrainingArguments(\n",
    "    output_dir='./results',\n",
    "    num_train_epochs=2,\n",
    "    per_device_train_batch_size=8,\n",
    "    per_device_eval_batch_size=8,\n",
    "    warmup_steps=500,\n",
    "    weight_decay=0.01,\n",
    "    logging_dir='./logs',\n",
    "    eval_strategy='steps',   \n",
    "    eval_steps=500,                \n",
    ")  \n",
    "\n",
    "trainer = Trainer(\n",
    "    model=model,\n",
    "    args=training_args,\n",
    "    train_dataset=train_dataset,\n",
    "    eval_dataset=val_dataset,\n",
    ")"
   ]
  },
  {
   "cell_type": "code",
   "execution_count": 88,
   "id": "e734c16f-c616-47bf-a5d3-df8396c9ad75",
   "metadata": {},
   "outputs": [
    {
     "data": {
      "text/html": [
       "\n",
       "    <div>\n",
       "      \n",
       "      <progress value='5000' max='5000' style='width:300px; height:20px; vertical-align: middle;'></progress>\n",
       "      [5000/5000 8:09:30, Epoch 2/2]\n",
       "    </div>\n",
       "    <table border=\"1\" class=\"dataframe\">\n",
       "  <thead>\n",
       " <tr style=\"text-align: left;\">\n",
       "      <th>Step</th>\n",
       "      <th>Training Loss</th>\n",
       "      <th>Validation Loss</th>\n",
       "    </tr>\n",
       "  </thead>\n",
       "  <tbody>\n",
       "    <tr>\n",
       "      <td>500</td>\n",
       "      <td>1.880100</td>\n",
       "      <td>1.495725</td>\n",
       "    </tr>\n",
       "    <tr>\n",
       "      <td>1000</td>\n",
       "      <td>1.535200</td>\n",
       "      <td>1.429707</td>\n",
       "    </tr>\n",
       "    <tr>\n",
       "      <td>1500</td>\n",
       "      <td>1.481200</td>\n",
       "      <td>1.399530</td>\n",
       "    </tr>\n",
       "    <tr>\n",
       "      <td>2000</td>\n",
       "      <td>1.432400</td>\n",
       "      <td>1.339643</td>\n",
       "    </tr>\n",
       "    <tr>\n",
       "      <td>2500</td>\n",
       "      <td>1.403200</td>\n",
       "      <td>1.441392</td>\n",
       "    </tr>\n",
       "    <tr>\n",
       "      <td>3000</td>\n",
       "      <td>1.199900</td>\n",
       "      <td>1.336743</td>\n",
       "    </tr>\n",
       "    <tr>\n",
       "      <td>3500</td>\n",
       "      <td>1.176100</td>\n",
       "      <td>1.311511</td>\n",
       "    </tr>\n",
       "    <tr>\n",
       "      <td>4000</td>\n",
       "      <td>1.139400</td>\n",
       "      <td>1.278639</td>\n",
       "    </tr>\n",
       "    <tr>\n",
       "      <td>4500</td>\n",
       "      <td>1.133600</td>\n",
       "      <td>1.273514</td>\n",
       "    </tr>\n",
       "    <tr>\n",
       "      <td>5000</td>\n",
       "      <td>1.112900</td>\n",
       "      <td>1.256234</td>\n",
       "    </tr>\n",
       "  </tbody>\n",
       "</table><p>"
      ],
      "text/plain": [
       "<IPython.core.display.HTML object>"
      ]
     },
     "metadata": {},
     "output_type": "display_data"
    },
    {
     "data": {
      "text/plain": [
       "TrainOutput(global_step=5000, training_loss=1.349397900390625, metrics={'train_runtime': 29377.0551, 'train_samples_per_second': 1.362, 'train_steps_per_second': 0.17, 'total_flos': 5299546398720000.0, 'train_loss': 1.349397900390625, 'epoch': 2.0})"
      ]
     },
     "execution_count": 88,
     "metadata": {},
     "output_type": "execute_result"
    }
   ],
   "source": [
    "trainer.train()"
   ]
  },
  {
   "cell_type": "code",
   "execution_count": 89,
   "id": "79f22d11-a99e-4f3a-b689-2d4764a9d1f5",
   "metadata": {},
   "outputs": [
    {
     "data": {
      "text/plain": [
       "('./movie_review_model\\\\tokenizer_config.json',\n",
       " './movie_review_model\\\\special_tokens_map.json',\n",
       " './movie_review_model\\\\vocab.txt',\n",
       " './movie_review_model\\\\added_tokens.json')"
      ]
     },
     "execution_count": 89,
     "metadata": {},
     "output_type": "execute_result"
    }
   ],
   "source": [
    "model.save_pretrained('./movie_review_model')\n",
    "tokenizer.save_pretrained('./movie_review_model')"
   ]
  },
  {
   "cell_type": "code",
   "execution_count": 90,
   "id": "9231e345-21aa-4e25-9587-561fa258415b",
   "metadata": {},
   "outputs": [],
   "source": [
    "model = DistilBertForSequenceClassification.from_pretrained('./movie_review_model')\n",
    "tokenizer = DistilBertTokenizer.from_pretrained('./movie_review_model')\n",
    "\n",
    "def predict_rating(review_text):\n",
    "    inputs = tokenizer(review_text, return_tensors='pt', truncation=True, padding=True, max_length=512)\n",
    "    \n",
    "    with torch.no_grad():\n",
    "        logits = model(**inputs).logits\n",
    "    \n",
    "    predicted_class = torch.argmax(logits, dim=1).item()\n",
    "    return predicted_class"
   ]
  },
  {
   "cell_type": "markdown",
   "id": "2d1b0cd9-6345-4706-971a-84e69a4d9310",
   "metadata": {},
   "source": [
    "## Пример предсказания рейтинга"
   ]
  },
  {
   "cell_type": "code",
   "execution_count": 91,
   "id": "571e4707-8af9-464b-8dd2-318b81fe981a",
   "metadata": {},
   "outputs": [
    {
     "name": "stdout",
     "output_type": "stream",
     "text": [
      "Предсказанный рейтинг: 10\n"
     ]
    }
   ],
   "source": [
    "new_review = \"This film was amazing. I am so inspired\" \n",
    "predicted_rating = predict_rating(new_review)\n",
    "print(f'Предсказанный рейтинг: {predicted_rating}')"
   ]
  },
  {
   "cell_type": "markdown",
   "id": "abef2d9d-db4c-48e4-b1c8-5b59fabdbdf2",
   "metadata": {},
   "source": [
    "## Accuracy on validation set"
   ]
  },
  {
   "cell_type": "code",
   "execution_count": 92,
   "id": "5bac77e9-c153-465c-a43e-9f92b6be1a85",
   "metadata": {},
   "outputs": [],
   "source": [
    "predictions = [predict_rating(x) for x in val_texts]"
   ]
  },
  {
   "cell_type": "code",
   "execution_count": 93,
   "id": "88161f38-4e11-456c-91fd-87b2d7f5b8c9",
   "metadata": {},
   "outputs": [],
   "source": [
    "def accuracy(preds, labels, tolerance=0):\n",
    "    if len(preds)!=len(labels):\n",
    "        raise ValueError(\"lengths of texts and labels collections should be same\")\n",
    "    c = 0\n",
    "    for i in range(len(labels)):\n",
    "        if abs(labels[i] - preds[i]) <= tolerance:\n",
    "            c+=1\n",
    "    return c/len(labels)"
   ]
  },
  {
   "cell_type": "code",
   "execution_count": 94,
   "id": "f3f17d52-356b-4b39-9144-8dc05e8a4fc5",
   "metadata": {},
   "outputs": [
    {
     "name": "stdout",
     "output_type": "stream",
     "text": [
      "Accuracy with tolerance 0: 0.514\n",
      "Accuracy with tolerance 1: 0.7802\n",
      "Accuracy with tolerance 2: 0.9\n"
     ]
    }
   ],
   "source": [
    "print(\"Accuracy with tolerance 0:\", accuracy(predictions, val_labels))\n",
    "print(\"Accuracy with tolerance 1:\", accuracy(predictions, val_labels, tolerance=1))\n",
    "print(\"Accuracy with tolerance 2:\", accuracy(predictions, val_labels, tolerance=2))"
   ]
  },
  {
   "cell_type": "markdown",
   "id": "abbaad77-286c-4907-898f-f0a705ab6a64",
   "metadata": {},
   "source": [
    "## Binary tonality (positives, negatives)"
   ]
  },
  {
   "cell_type": "code",
   "execution_count": 95,
   "id": "2ae75dc1-a30f-49e4-93f7-6653b985c257",
   "metadata": {},
   "outputs": [],
   "source": [
    "bin_preds = [int(x>5) for x in predictions]\n",
    "bin_labels = [int(x>5) for x in val_labels]"
   ]
  },
  {
   "cell_type": "code",
   "execution_count": 96,
   "id": "5f6e4168-ae18-4d05-a2f2-8291b634bdd8",
   "metadata": {},
   "outputs": [
    {
     "name": "stdout",
     "output_type": "stream",
     "text": [
      "Accuracy on binary classification: 0.9364\n"
     ]
    }
   ],
   "source": [
    "print(\"Accuracy on binary classification:\", accuracy(bin_preds, bin_labels))"
   ]
  },
  {
   "cell_type": "code",
   "execution_count": null,
   "id": "7db33cf1-d8a7-4187-9945-348361adc83a",
   "metadata": {},
   "outputs": [],
   "source": []
  }
 ],
 "metadata": {
  "kernelspec": {
   "display_name": "Python 3 (ipykernel)",
   "language": "python",
   "name": "python3"
  },
  "language_info": {
   "codemirror_mode": {
    "name": "ipython",
    "version": 3
   },
   "file_extension": ".py",
   "mimetype": "text/x-python",
   "name": "python",
   "nbconvert_exporter": "python",
   "pygments_lexer": "ipython3",
   "version": "3.9.7"
  }
 },
 "nbformat": 4,
 "nbformat_minor": 5
}
